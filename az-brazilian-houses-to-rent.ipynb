{
 "cells": [
  {
   "cell_type": "code",
   "execution_count": 1,
   "id": "415df8fb",
   "metadata": {
    "_cell_guid": "b1076dfc-b9ad-4769-8c92-a6c4dae69d19",
    "_uuid": "8f2839f25d086af736a60e9eeb907d3b93b6e0e5",
    "execution": {
     "iopub.execute_input": "2023-07-23T13:24:16.335878Z",
     "iopub.status.busy": "2023-07-23T13:24:16.335455Z",
     "iopub.status.idle": "2023-07-23T13:24:16.347709Z",
     "shell.execute_reply": "2023-07-23T13:24:16.346833Z"
    },
    "papermill": {
     "duration": 0.027908,
     "end_time": "2023-07-23T13:24:16.350158",
     "exception": false,
     "start_time": "2023-07-23T13:24:16.322250",
     "status": "completed"
    },
    "tags": []
   },
   "outputs": [],
   "source": [
    "import numpy as np\n",
    "import pandas as pd"
   ]
  },
  {
   "cell_type": "code",
   "execution_count": 2,
   "id": "50576e21",
   "metadata": {
    "execution": {
     "iopub.execute_input": "2023-07-23T13:24:16.370924Z",
     "iopub.status.busy": "2023-07-23T13:24:16.370502Z",
     "iopub.status.idle": "2023-07-23T13:24:16.450897Z",
     "shell.execute_reply": "2023-07-23T13:24:16.449620Z"
    },
    "papermill": {
     "duration": 0.093935,
     "end_time": "2023-07-23T13:24:16.453640",
     "exception": false,
     "start_time": "2023-07-23T13:24:16.359705",
     "status": "completed"
    },
    "tags": []
   },
   "outputs": [
    {
     "name": "stdout",
     "output_type": "stream",
     "text": [
      "(6080, 14)\n"
     ]
    },
    {
     "data": {
      "text/html": [
       "<div>\n",
       "<style scoped>\n",
       "    .dataframe tbody tr th:only-of-type {\n",
       "        vertical-align: middle;\n",
       "    }\n",
       "\n",
       "    .dataframe tbody tr th {\n",
       "        vertical-align: top;\n",
       "    }\n",
       "\n",
       "    .dataframe thead th {\n",
       "        text-align: right;\n",
       "    }\n",
       "</style>\n",
       "<table border=\"1\" class=\"dataframe\">\n",
       "  <thead>\n",
       "    <tr style=\"text-align: right;\">\n",
       "      <th></th>\n",
       "      <th>Unnamed: 0</th>\n",
       "      <th>city</th>\n",
       "      <th>area</th>\n",
       "      <th>rooms</th>\n",
       "      <th>bathroom</th>\n",
       "      <th>parking spaces</th>\n",
       "      <th>floor</th>\n",
       "      <th>animal</th>\n",
       "      <th>furniture</th>\n",
       "      <th>hoa</th>\n",
       "      <th>rent amount</th>\n",
       "      <th>property tax</th>\n",
       "      <th>fire insurance</th>\n",
       "      <th>total</th>\n",
       "    </tr>\n",
       "  </thead>\n",
       "  <tbody>\n",
       "    <tr>\n",
       "      <th>0</th>\n",
       "      <td>0</td>\n",
       "      <td>1</td>\n",
       "      <td>240</td>\n",
       "      <td>3</td>\n",
       "      <td>3</td>\n",
       "      <td>4</td>\n",
       "      <td>-</td>\n",
       "      <td>acept</td>\n",
       "      <td>furnished</td>\n",
       "      <td>R$0</td>\n",
       "      <td>R$8,000</td>\n",
       "      <td>R$1,000</td>\n",
       "      <td>R$121</td>\n",
       "      <td>R$9,121</td>\n",
       "    </tr>\n",
       "    <tr>\n",
       "      <th>1</th>\n",
       "      <td>1</td>\n",
       "      <td>0</td>\n",
       "      <td>64</td>\n",
       "      <td>2</td>\n",
       "      <td>1</td>\n",
       "      <td>1</td>\n",
       "      <td>10</td>\n",
       "      <td>acept</td>\n",
       "      <td>not furnished</td>\n",
       "      <td>R$540</td>\n",
       "      <td>R$820</td>\n",
       "      <td>R$122</td>\n",
       "      <td>R$11</td>\n",
       "      <td>R$1,493</td>\n",
       "    </tr>\n",
       "    <tr>\n",
       "      <th>2</th>\n",
       "      <td>2</td>\n",
       "      <td>1</td>\n",
       "      <td>443</td>\n",
       "      <td>5</td>\n",
       "      <td>5</td>\n",
       "      <td>4</td>\n",
       "      <td>3</td>\n",
       "      <td>acept</td>\n",
       "      <td>furnished</td>\n",
       "      <td>R$4,172</td>\n",
       "      <td>R$7,000</td>\n",
       "      <td>R$1,417</td>\n",
       "      <td>R$89</td>\n",
       "      <td>R$12,680</td>\n",
       "    </tr>\n",
       "    <tr>\n",
       "      <th>3</th>\n",
       "      <td>3</td>\n",
       "      <td>1</td>\n",
       "      <td>73</td>\n",
       "      <td>2</td>\n",
       "      <td>2</td>\n",
       "      <td>1</td>\n",
       "      <td>12</td>\n",
       "      <td>acept</td>\n",
       "      <td>not furnished</td>\n",
       "      <td>R$700</td>\n",
       "      <td>R$1,250</td>\n",
       "      <td>R$150</td>\n",
       "      <td>R$16</td>\n",
       "      <td>R$2,116</td>\n",
       "    </tr>\n",
       "    <tr>\n",
       "      <th>4</th>\n",
       "      <td>4</td>\n",
       "      <td>1</td>\n",
       "      <td>19</td>\n",
       "      <td>1</td>\n",
       "      <td>1</td>\n",
       "      <td>0</td>\n",
       "      <td>-</td>\n",
       "      <td>not acept</td>\n",
       "      <td>not furnished</td>\n",
       "      <td>R$0</td>\n",
       "      <td>R$1,200</td>\n",
       "      <td>R$41</td>\n",
       "      <td>R$16</td>\n",
       "      <td>R$1,257</td>\n",
       "    </tr>\n",
       "  </tbody>\n",
       "</table>\n",
       "</div>"
      ],
      "text/plain": [
       "   Unnamed: 0  city  area  rooms  bathroom  parking spaces floor     animal  \\\n",
       "0           0     1   240      3         3               4     -      acept   \n",
       "1           1     0    64      2         1               1    10      acept   \n",
       "2           2     1   443      5         5               4     3      acept   \n",
       "3           3     1    73      2         2               1    12      acept   \n",
       "4           4     1    19      1         1               0     -  not acept   \n",
       "\n",
       "       furniture      hoa rent amount property tax fire insurance     total  \n",
       "0      furnished      R$0     R$8,000      R$1,000          R$121   R$9,121  \n",
       "1  not furnished    R$540       R$820        R$122           R$11   R$1,493  \n",
       "2      furnished  R$4,172     R$7,000      R$1,417           R$89  R$12,680  \n",
       "3  not furnished    R$700     R$1,250        R$150           R$16   R$2,116  \n",
       "4  not furnished      R$0     R$1,200         R$41           R$16   R$1,257  "
      ]
     },
     "execution_count": 2,
     "metadata": {},
     "output_type": "execute_result"
    }
   ],
   "source": [
    "data = pd.read_csv(r'/kaggle/input/brasilian-houses-to-rent/houses_to_rent.csv')\n",
    "\n",
    "print(data.shape)\n",
    "data.head()"
   ]
  },
  {
   "cell_type": "code",
   "execution_count": 3,
   "id": "1439567d",
   "metadata": {
    "execution": {
     "iopub.execute_input": "2023-07-23T13:24:16.475430Z",
     "iopub.status.busy": "2023-07-23T13:24:16.475038Z",
     "iopub.status.idle": "2023-07-23T13:24:16.495295Z",
     "shell.execute_reply": "2023-07-23T13:24:16.493934Z"
    },
    "papermill": {
     "duration": 0.034572,
     "end_time": "2023-07-23T13:24:16.497915",
     "exception": false,
     "start_time": "2023-07-23T13:24:16.463343",
     "status": "completed"
    },
    "tags": []
   },
   "outputs": [
    {
     "name": "stdout",
     "output_type": "stream",
     "text": [
      "(6080, 14)\n"
     ]
    },
    {
     "data": {
      "text/html": [
       "<div>\n",
       "<style scoped>\n",
       "    .dataframe tbody tr th:only-of-type {\n",
       "        vertical-align: middle;\n",
       "    }\n",
       "\n",
       "    .dataframe tbody tr th {\n",
       "        vertical-align: top;\n",
       "    }\n",
       "\n",
       "    .dataframe thead th {\n",
       "        text-align: right;\n",
       "    }\n",
       "</style>\n",
       "<table border=\"1\" class=\"dataframe\">\n",
       "  <thead>\n",
       "    <tr style=\"text-align: right;\">\n",
       "      <th></th>\n",
       "      <th>Unnamed: 0</th>\n",
       "      <th>city</th>\n",
       "      <th>area</th>\n",
       "      <th>rooms</th>\n",
       "      <th>bathroom</th>\n",
       "      <th>parking spaces</th>\n",
       "      <th>floor</th>\n",
       "      <th>animal</th>\n",
       "      <th>furniture</th>\n",
       "      <th>hoa</th>\n",
       "      <th>rent amount</th>\n",
       "      <th>property tax</th>\n",
       "      <th>fire insurance</th>\n",
       "      <th>total</th>\n",
       "    </tr>\n",
       "  </thead>\n",
       "  <tbody>\n",
       "    <tr>\n",
       "      <th>0</th>\n",
       "      <td>0</td>\n",
       "      <td>1</td>\n",
       "      <td>240</td>\n",
       "      <td>3</td>\n",
       "      <td>3</td>\n",
       "      <td>4</td>\n",
       "      <td>-</td>\n",
       "      <td>acept</td>\n",
       "      <td>furnished</td>\n",
       "      <td>R$0</td>\n",
       "      <td>R$8,000</td>\n",
       "      <td>R$1,000</td>\n",
       "      <td>R$121</td>\n",
       "      <td>R$9,121</td>\n",
       "    </tr>\n",
       "    <tr>\n",
       "      <th>1</th>\n",
       "      <td>1</td>\n",
       "      <td>0</td>\n",
       "      <td>64</td>\n",
       "      <td>2</td>\n",
       "      <td>1</td>\n",
       "      <td>1</td>\n",
       "      <td>10</td>\n",
       "      <td>acept</td>\n",
       "      <td>not furnished</td>\n",
       "      <td>R$540</td>\n",
       "      <td>R$820</td>\n",
       "      <td>R$122</td>\n",
       "      <td>R$11</td>\n",
       "      <td>R$1,493</td>\n",
       "    </tr>\n",
       "    <tr>\n",
       "      <th>2</th>\n",
       "      <td>2</td>\n",
       "      <td>1</td>\n",
       "      <td>443</td>\n",
       "      <td>5</td>\n",
       "      <td>5</td>\n",
       "      <td>4</td>\n",
       "      <td>3</td>\n",
       "      <td>acept</td>\n",
       "      <td>furnished</td>\n",
       "      <td>R$4,172</td>\n",
       "      <td>R$7,000</td>\n",
       "      <td>R$1,417</td>\n",
       "      <td>R$89</td>\n",
       "      <td>R$12,680</td>\n",
       "    </tr>\n",
       "    <tr>\n",
       "      <th>3</th>\n",
       "      <td>3</td>\n",
       "      <td>1</td>\n",
       "      <td>73</td>\n",
       "      <td>2</td>\n",
       "      <td>2</td>\n",
       "      <td>1</td>\n",
       "      <td>12</td>\n",
       "      <td>acept</td>\n",
       "      <td>not furnished</td>\n",
       "      <td>R$700</td>\n",
       "      <td>R$1,250</td>\n",
       "      <td>R$150</td>\n",
       "      <td>R$16</td>\n",
       "      <td>R$2,116</td>\n",
       "    </tr>\n",
       "    <tr>\n",
       "      <th>4</th>\n",
       "      <td>4</td>\n",
       "      <td>1</td>\n",
       "      <td>19</td>\n",
       "      <td>1</td>\n",
       "      <td>1</td>\n",
       "      <td>0</td>\n",
       "      <td>-</td>\n",
       "      <td>not acept</td>\n",
       "      <td>not furnished</td>\n",
       "      <td>R$0</td>\n",
       "      <td>R$1,200</td>\n",
       "      <td>R$41</td>\n",
       "      <td>R$16</td>\n",
       "      <td>R$1,257</td>\n",
       "    </tr>\n",
       "    <tr>\n",
       "      <th>5</th>\n",
       "      <td>5</td>\n",
       "      <td>1</td>\n",
       "      <td>13</td>\n",
       "      <td>1</td>\n",
       "      <td>1</td>\n",
       "      <td>0</td>\n",
       "      <td>2</td>\n",
       "      <td>acept</td>\n",
       "      <td>not furnished</td>\n",
       "      <td>R$0</td>\n",
       "      <td>R$2,200</td>\n",
       "      <td>R$42</td>\n",
       "      <td>R$28</td>\n",
       "      <td>R$2,270</td>\n",
       "    </tr>\n",
       "    <tr>\n",
       "      <th>6</th>\n",
       "      <td>6</td>\n",
       "      <td>1</td>\n",
       "      <td>55</td>\n",
       "      <td>1</td>\n",
       "      <td>1</td>\n",
       "      <td>1</td>\n",
       "      <td>2</td>\n",
       "      <td>acept</td>\n",
       "      <td>furnished</td>\n",
       "      <td>R$1,950</td>\n",
       "      <td>R$5,000</td>\n",
       "      <td>R$375</td>\n",
       "      <td>R$64</td>\n",
       "      <td>R$7,389</td>\n",
       "    </tr>\n",
       "    <tr>\n",
       "      <th>7</th>\n",
       "      <td>7</td>\n",
       "      <td>1</td>\n",
       "      <td>55</td>\n",
       "      <td>2</td>\n",
       "      <td>2</td>\n",
       "      <td>1</td>\n",
       "      <td>2</td>\n",
       "      <td>acept</td>\n",
       "      <td>not furnished</td>\n",
       "      <td>R$600</td>\n",
       "      <td>R$1,300</td>\n",
       "      <td>R$67</td>\n",
       "      <td>R$17</td>\n",
       "      <td>R$1,984</td>\n",
       "    </tr>\n",
       "    <tr>\n",
       "      <th>8</th>\n",
       "      <td>8</td>\n",
       "      <td>1</td>\n",
       "      <td>82</td>\n",
       "      <td>3</td>\n",
       "      <td>1</td>\n",
       "      <td>1</td>\n",
       "      <td>3</td>\n",
       "      <td>acept</td>\n",
       "      <td>furnished</td>\n",
       "      <td>R$828</td>\n",
       "      <td>R$2,000</td>\n",
       "      <td>R$109</td>\n",
       "      <td>R$26</td>\n",
       "      <td>R$2,963</td>\n",
       "    </tr>\n",
       "    <tr>\n",
       "      <th>9</th>\n",
       "      <td>9</td>\n",
       "      <td>1</td>\n",
       "      <td>32</td>\n",
       "      <td>1</td>\n",
       "      <td>1</td>\n",
       "      <td>1</td>\n",
       "      <td>16</td>\n",
       "      <td>acept</td>\n",
       "      <td>not furnished</td>\n",
       "      <td>R$533</td>\n",
       "      <td>R$2,900</td>\n",
       "      <td>R$0</td>\n",
       "      <td>R$37</td>\n",
       "      <td>R$3,470</td>\n",
       "    </tr>\n",
       "  </tbody>\n",
       "</table>\n",
       "</div>"
      ],
      "text/plain": [
       "   Unnamed: 0  city  area  rooms  bathroom  parking spaces floor     animal  \\\n",
       "0           0     1   240      3         3               4     -      acept   \n",
       "1           1     0    64      2         1               1    10      acept   \n",
       "2           2     1   443      5         5               4     3      acept   \n",
       "3           3     1    73      2         2               1    12      acept   \n",
       "4           4     1    19      1         1               0     -  not acept   \n",
       "5           5     1    13      1         1               0     2      acept   \n",
       "6           6     1    55      1         1               1     2      acept   \n",
       "7           7     1    55      2         2               1     2      acept   \n",
       "8           8     1    82      3         1               1     3      acept   \n",
       "9           9     1    32      1         1               1    16      acept   \n",
       "\n",
       "       furniture      hoa rent amount property tax fire insurance     total  \n",
       "0      furnished      R$0     R$8,000      R$1,000          R$121   R$9,121  \n",
       "1  not furnished    R$540       R$820        R$122           R$11   R$1,493  \n",
       "2      furnished  R$4,172     R$7,000      R$1,417           R$89  R$12,680  \n",
       "3  not furnished    R$700     R$1,250        R$150           R$16   R$2,116  \n",
       "4  not furnished      R$0     R$1,200         R$41           R$16   R$1,257  \n",
       "5  not furnished      R$0     R$2,200         R$42           R$28   R$2,270  \n",
       "6      furnished  R$1,950     R$5,000        R$375           R$64   R$7,389  \n",
       "7  not furnished    R$600     R$1,300         R$67           R$17   R$1,984  \n",
       "8      furnished    R$828     R$2,000        R$109           R$26   R$2,963  \n",
       "9  not furnished    R$533     R$2,900          R$0           R$37   R$3,470  "
      ]
     },
     "execution_count": 3,
     "metadata": {},
     "output_type": "execute_result"
    }
   ],
   "source": [
    "print(data.shape)\n",
    "data.head(10)"
   ]
  },
  {
   "cell_type": "code",
   "execution_count": 4,
   "id": "c67e76cf",
   "metadata": {
    "execution": {
     "iopub.execute_input": "2023-07-23T13:24:16.520439Z",
     "iopub.status.busy": "2023-07-23T13:24:16.520045Z",
     "iopub.status.idle": "2023-07-23T13:24:16.534654Z",
     "shell.execute_reply": "2023-07-23T13:24:16.533543Z"
    },
    "papermill": {
     "duration": 0.028698,
     "end_time": "2023-07-23T13:24:16.537085",
     "exception": false,
     "start_time": "2023-07-23T13:24:16.508387",
     "status": "completed"
    },
    "tags": []
   },
   "outputs": [],
   "source": [
    "data.drop(data.columns[0],axis=1,inplace=True)"
   ]
  },
  {
   "cell_type": "code",
   "execution_count": 5,
   "id": "b82f832d",
   "metadata": {
    "execution": {
     "iopub.execute_input": "2023-07-23T13:24:16.559797Z",
     "iopub.status.busy": "2023-07-23T13:24:16.559364Z",
     "iopub.status.idle": "2023-07-23T13:24:16.566325Z",
     "shell.execute_reply": "2023-07-23T13:24:16.565077Z"
    },
    "papermill": {
     "duration": 0.021622,
     "end_time": "2023-07-23T13:24:16.568956",
     "exception": false,
     "start_time": "2023-07-23T13:24:16.547334",
     "status": "completed"
    },
    "tags": []
   },
   "outputs": [],
   "source": [
    "data['floor'].replace(to_replace='-', value=0,inplace=True)"
   ]
  },
  {
   "cell_type": "code",
   "execution_count": 6,
   "id": "e7ea3548",
   "metadata": {
    "execution": {
     "iopub.execute_input": "2023-07-23T13:24:16.591134Z",
     "iopub.status.busy": "2023-07-23T13:24:16.590706Z",
     "iopub.status.idle": "2023-07-23T13:24:16.601772Z",
     "shell.execute_reply": "2023-07-23T13:24:16.600660Z"
    },
    "papermill": {
     "duration": 0.025145,
     "end_time": "2023-07-23T13:24:16.604272",
     "exception": false,
     "start_time": "2023-07-23T13:24:16.579127",
     "status": "completed"
    },
    "tags": []
   },
   "outputs": [],
   "source": [
    "data['animal'].replace(to_replace='not acept',value=0,inplace=True)\n",
    "data['animal'].replace(to_replace='acept',value=1,inplace=True)"
   ]
  },
  {
   "cell_type": "code",
   "execution_count": 7,
   "id": "546d5223",
   "metadata": {
    "execution": {
     "iopub.execute_input": "2023-07-23T13:24:16.626380Z",
     "iopub.status.busy": "2023-07-23T13:24:16.625947Z",
     "iopub.status.idle": "2023-07-23T13:24:16.637925Z",
     "shell.execute_reply": "2023-07-23T13:24:16.636758Z"
    },
    "papermill": {
     "duration": 0.026121,
     "end_time": "2023-07-23T13:24:16.640548",
     "exception": false,
     "start_time": "2023-07-23T13:24:16.614427",
     "status": "completed"
    },
    "tags": []
   },
   "outputs": [],
   "source": [
    "data['furniture'].replace(to_replace='furnished',value=1,inplace=True)\n",
    "data['furniture'].replace(to_replace='not furnished',value=0,inplace=True)\n"
   ]
  },
  {
   "cell_type": "code",
   "execution_count": 8,
   "id": "bfcb710a",
   "metadata": {
    "execution": {
     "iopub.execute_input": "2023-07-23T13:24:16.662695Z",
     "iopub.status.busy": "2023-07-23T13:24:16.662222Z",
     "iopub.status.idle": "2023-07-23T13:24:16.804729Z",
     "shell.execute_reply": "2023-07-23T13:24:16.803302Z"
    },
    "papermill": {
     "duration": 0.156819,
     "end_time": "2023-07-23T13:24:16.807654",
     "exception": false,
     "start_time": "2023-07-23T13:24:16.650835",
     "status": "completed"
    },
    "tags": []
   },
   "outputs": [],
   "source": [
    "for col in ['hoa','rent amount','property tax','fire insurance','total']:\n",
    "    data[col].replace(to_replace='R\\$', value=\"\",regex=True,inplace=True)\n",
    "    data[col].replace(to_replace=',', value=\"\",regex=True,inplace=True)"
   ]
  },
  {
   "cell_type": "code",
   "execution_count": 9,
   "id": "aa92e83a",
   "metadata": {
    "execution": {
     "iopub.execute_input": "2023-07-23T13:24:16.830123Z",
     "iopub.status.busy": "2023-07-23T13:24:16.829675Z",
     "iopub.status.idle": "2023-07-23T13:24:16.836652Z",
     "shell.execute_reply": "2023-07-23T13:24:16.835420Z"
    },
    "papermill": {
     "duration": 0.021271,
     "end_time": "2023-07-23T13:24:16.839087",
     "exception": false,
     "start_time": "2023-07-23T13:24:16.817816",
     "status": "completed"
    },
    "tags": []
   },
   "outputs": [],
   "source": [
    "data['hoa'].replace(to_replace='Sem info',value='0', inplace=True)"
   ]
  },
  {
   "cell_type": "code",
   "execution_count": 10,
   "id": "0a6b96a6",
   "metadata": {
    "execution": {
     "iopub.execute_input": "2023-07-23T13:24:16.862286Z",
     "iopub.status.busy": "2023-07-23T13:24:16.861460Z",
     "iopub.status.idle": "2023-07-23T13:24:16.869827Z",
     "shell.execute_reply": "2023-07-23T13:24:16.868528Z"
    },
    "papermill": {
     "duration": 0.022781,
     "end_time": "2023-07-23T13:24:16.872311",
     "exception": false,
     "start_time": "2023-07-23T13:24:16.849530",
     "status": "completed"
    },
    "tags": []
   },
   "outputs": [],
   "source": [
    "data['hoa'].replace(to_replace='Incluso',value='0', inplace=True)\n",
    "data['property tax'].replace(to_replace='Incluso',value='0', inplace=True)\n",
    "\n"
   ]
  },
  {
   "cell_type": "code",
   "execution_count": 11,
   "id": "148a4f7e",
   "metadata": {
    "execution": {
     "iopub.execute_input": "2023-07-23T13:24:16.894262Z",
     "iopub.status.busy": "2023-07-23T13:24:16.893850Z",
     "iopub.status.idle": "2023-07-23T13:24:16.906086Z",
     "shell.execute_reply": "2023-07-23T13:24:16.905210Z"
    },
    "papermill": {
     "duration": 0.026016,
     "end_time": "2023-07-23T13:24:16.908484",
     "exception": false,
     "start_time": "2023-07-23T13:24:16.882468",
     "status": "completed"
    },
    "tags": []
   },
   "outputs": [],
   "source": [
    "data = data.astype(dtype=np.int64)"
   ]
  },
  {
   "cell_type": "code",
   "execution_count": 12,
   "id": "dc0d3520",
   "metadata": {
    "execution": {
     "iopub.execute_input": "2023-07-23T13:24:16.930977Z",
     "iopub.status.busy": "2023-07-23T13:24:16.929865Z",
     "iopub.status.idle": "2023-07-23T13:24:16.949713Z",
     "shell.execute_reply": "2023-07-23T13:24:16.948631Z"
    },
    "papermill": {
     "duration": 0.033647,
     "end_time": "2023-07-23T13:24:16.952125",
     "exception": false,
     "start_time": "2023-07-23T13:24:16.918478",
     "status": "completed"
    },
    "tags": []
   },
   "outputs": [
    {
     "data": {
      "text/plain": [
       "city              False\n",
       "area              False\n",
       "rooms             False\n",
       "bathroom          False\n",
       "parking spaces    False\n",
       "floor             False\n",
       "animal            False\n",
       "furniture         False\n",
       "hoa               False\n",
       "rent amount       False\n",
       "property tax      False\n",
       "fire insurance    False\n",
       "total             False\n",
       "dtype: bool"
      ]
     },
     "execution_count": 12,
     "metadata": {},
     "output_type": "execute_result"
    }
   ],
   "source": [
    "data.isin(['Incluso']).any()"
   ]
  },
  {
   "cell_type": "code",
   "execution_count": 13,
   "id": "3f096b85",
   "metadata": {
    "execution": {
     "iopub.execute_input": "2023-07-23T13:24:16.975569Z",
     "iopub.status.busy": "2023-07-23T13:24:16.974766Z",
     "iopub.status.idle": "2023-07-23T13:24:16.981461Z",
     "shell.execute_reply": "2023-07-23T13:24:16.980590Z"
    },
    "papermill": {
     "duration": 0.020955,
     "end_time": "2023-07-23T13:24:16.984078",
     "exception": false,
     "start_time": "2023-07-23T13:24:16.963123",
     "status": "completed"
    },
    "tags": []
   },
   "outputs": [],
   "source": [
    "data = data.sample(frac=1).reset_index(drop=True)"
   ]
  },
  {
   "cell_type": "code",
   "execution_count": 14,
   "id": "6191be45",
   "metadata": {
    "execution": {
     "iopub.execute_input": "2023-07-23T13:24:17.006639Z",
     "iopub.status.busy": "2023-07-23T13:24:17.005847Z",
     "iopub.status.idle": "2023-07-23T13:24:17.012464Z",
     "shell.execute_reply": "2023-07-23T13:24:17.011553Z"
    },
    "papermill": {
     "duration": 0.020835,
     "end_time": "2023-07-23T13:24:17.015042",
     "exception": false,
     "start_time": "2023-07-23T13:24:16.994207",
     "status": "completed"
    },
    "tags": []
   },
   "outputs": [],
   "source": [
    "y= data['city']\n",
    "x= data.drop('city', axis=1)"
   ]
  },
  {
   "cell_type": "code",
   "execution_count": 15,
   "id": "f4017e81",
   "metadata": {
    "execution": {
     "iopub.execute_input": "2023-07-23T13:24:17.037711Z",
     "iopub.status.busy": "2023-07-23T13:24:17.036912Z",
     "iopub.status.idle": "2023-07-23T13:24:18.452652Z",
     "shell.execute_reply": "2023-07-23T13:24:18.451331Z"
    },
    "papermill": {
     "duration": 1.430798,
     "end_time": "2023-07-23T13:24:18.456125",
     "exception": false,
     "start_time": "2023-07-23T13:24:17.025327",
     "status": "completed"
    },
    "tags": []
   },
   "outputs": [],
   "source": [
    "from sklearn.model_selection import train_test_split"
   ]
  },
  {
   "cell_type": "code",
   "execution_count": 16,
   "id": "ec986738",
   "metadata": {
    "execution": {
     "iopub.execute_input": "2023-07-23T13:24:18.478993Z",
     "iopub.status.busy": "2023-07-23T13:24:18.478209Z",
     "iopub.status.idle": "2023-07-23T13:24:18.483012Z",
     "shell.execute_reply": "2023-07-23T13:24:18.482286Z"
    },
    "papermill": {
     "duration": 0.018526,
     "end_time": "2023-07-23T13:24:18.485229",
     "exception": false,
     "start_time": "2023-07-23T13:24:18.466703",
     "status": "completed"
    },
    "tags": []
   },
   "outputs": [],
   "source": [
    "from sklearn.preprocessing import MinMaxScaler"
   ]
  },
  {
   "cell_type": "code",
   "execution_count": 17,
   "id": "1b9b3fd3",
   "metadata": {
    "execution": {
     "iopub.execute_input": "2023-07-23T13:24:18.507141Z",
     "iopub.status.busy": "2023-07-23T13:24:18.506506Z",
     "iopub.status.idle": "2023-07-23T13:24:18.518057Z",
     "shell.execute_reply": "2023-07-23T13:24:18.516881Z"
    },
    "papermill": {
     "duration": 0.02549,
     "end_time": "2023-07-23T13:24:18.520698",
     "exception": false,
     "start_time": "2023-07-23T13:24:18.495208",
     "status": "completed"
    },
    "tags": []
   },
   "outputs": [],
   "source": [
    "scaler = MinMaxScaler()\n",
    "scaler.fit(x)\n",
    "x = scaler.transform(x)"
   ]
  },
  {
   "cell_type": "code",
   "execution_count": 18,
   "id": "cc7a55b8",
   "metadata": {
    "execution": {
     "iopub.execute_input": "2023-07-23T13:24:18.542958Z",
     "iopub.status.busy": "2023-07-23T13:24:18.542530Z",
     "iopub.status.idle": "2023-07-23T13:24:18.567760Z",
     "shell.execute_reply": "2023-07-23T13:24:18.566873Z"
    },
    "papermill": {
     "duration": 0.039301,
     "end_time": "2023-07-23T13:24:18.570192",
     "exception": false,
     "start_time": "2023-07-23T13:24:18.530891",
     "status": "completed"
    },
    "tags": []
   },
   "outputs": [
    {
     "data": {
      "text/html": [
       "<div>\n",
       "<style scoped>\n",
       "    .dataframe tbody tr th:only-of-type {\n",
       "        vertical-align: middle;\n",
       "    }\n",
       "\n",
       "    .dataframe tbody tr th {\n",
       "        vertical-align: top;\n",
       "    }\n",
       "\n",
       "    .dataframe thead th {\n",
       "        text-align: right;\n",
       "    }\n",
       "</style>\n",
       "<table border=\"1\" class=\"dataframe\">\n",
       "  <thead>\n",
       "    <tr style=\"text-align: right;\">\n",
       "      <th></th>\n",
       "      <th>0</th>\n",
       "      <th>1</th>\n",
       "      <th>2</th>\n",
       "      <th>3</th>\n",
       "      <th>4</th>\n",
       "      <th>5</th>\n",
       "      <th>6</th>\n",
       "      <th>7</th>\n",
       "      <th>8</th>\n",
       "      <th>9</th>\n",
       "      <th>10</th>\n",
       "      <th>11</th>\n",
       "    </tr>\n",
       "  </thead>\n",
       "  <tbody>\n",
       "    <tr>\n",
       "      <th>0</th>\n",
       "      <td>0.008538</td>\n",
       "      <td>0.222222</td>\n",
       "      <td>0.333333</td>\n",
       "      <td>0.166667</td>\n",
       "      <td>0.000000</td>\n",
       "      <td>1.0</td>\n",
       "      <td>1.0</td>\n",
       "      <td>0.000000</td>\n",
       "      <td>0.147600</td>\n",
       "      <td>0.001185</td>\n",
       "      <td>0.152819</td>\n",
       "      <td>0.018493</td>\n",
       "    </tr>\n",
       "    <tr>\n",
       "      <th>1</th>\n",
       "      <td>0.008945</td>\n",
       "      <td>0.222222</td>\n",
       "      <td>0.333333</td>\n",
       "      <td>0.166667</td>\n",
       "      <td>0.030303</td>\n",
       "      <td>1.0</td>\n",
       "      <td>0.0</td>\n",
       "      <td>0.009091</td>\n",
       "      <td>0.098250</td>\n",
       "      <td>0.000797</td>\n",
       "      <td>0.086053</td>\n",
       "      <td>0.017452</td>\n",
       "    </tr>\n",
       "    <tr>\n",
       "      <th>2</th>\n",
       "      <td>0.001911</td>\n",
       "      <td>0.000000</td>\n",
       "      <td>0.000000</td>\n",
       "      <td>0.083333</td>\n",
       "      <td>0.161616</td>\n",
       "      <td>1.0</td>\n",
       "      <td>1.0</td>\n",
       "      <td>0.003364</td>\n",
       "      <td>0.060117</td>\n",
       "      <td>0.000314</td>\n",
       "      <td>0.054896</td>\n",
       "      <td>0.008964</td>\n",
       "    </tr>\n",
       "    <tr>\n",
       "      <th>3</th>\n",
       "      <td>0.006830</td>\n",
       "      <td>0.111111</td>\n",
       "      <td>0.333333</td>\n",
       "      <td>0.250000</td>\n",
       "      <td>0.020202</td>\n",
       "      <td>1.0</td>\n",
       "      <td>0.0</td>\n",
       "      <td>0.011727</td>\n",
       "      <td>0.125168</td>\n",
       "      <td>0.000191</td>\n",
       "      <td>0.109792</td>\n",
       "      <td>0.021683</td>\n",
       "    </tr>\n",
       "    <tr>\n",
       "      <th>4</th>\n",
       "      <td>0.010774</td>\n",
       "      <td>0.333333</td>\n",
       "      <td>0.222222</td>\n",
       "      <td>0.250000</td>\n",
       "      <td>0.040404</td>\n",
       "      <td>1.0</td>\n",
       "      <td>0.0</td>\n",
       "      <td>0.015227</td>\n",
       "      <td>0.124047</td>\n",
       "      <td>0.003249</td>\n",
       "      <td>0.108309</td>\n",
       "      <td>0.026637</td>\n",
       "    </tr>\n",
       "    <tr>\n",
       "      <th>...</th>\n",
       "      <td>...</td>\n",
       "      <td>...</td>\n",
       "      <td>...</td>\n",
       "      <td>...</td>\n",
       "      <td>...</td>\n",
       "      <td>...</td>\n",
       "      <td>...</td>\n",
       "      <td>...</td>\n",
       "      <td>...</td>\n",
       "      <td>...</td>\n",
       "      <td>...</td>\n",
       "      <td>...</td>\n",
       "    </tr>\n",
       "    <tr>\n",
       "      <th>6075</th>\n",
       "      <td>0.010693</td>\n",
       "      <td>0.222222</td>\n",
       "      <td>0.444444</td>\n",
       "      <td>0.333333</td>\n",
       "      <td>0.050505</td>\n",
       "      <td>1.0</td>\n",
       "      <td>0.0</td>\n",
       "      <td>0.012250</td>\n",
       "      <td>0.235083</td>\n",
       "      <td>0.002886</td>\n",
       "      <td>0.201780</td>\n",
       "      <td>0.037980</td>\n",
       "    </tr>\n",
       "    <tr>\n",
       "      <th>6076</th>\n",
       "      <td>0.000610</td>\n",
       "      <td>0.000000</td>\n",
       "      <td>0.000000</td>\n",
       "      <td>0.000000</td>\n",
       "      <td>0.050505</td>\n",
       "      <td>0.0</td>\n",
       "      <td>1.0</td>\n",
       "      <td>0.001227</td>\n",
       "      <td>0.048901</td>\n",
       "      <td>0.000183</td>\n",
       "      <td>0.044510</td>\n",
       "      <td>0.006209</td>\n",
       "    </tr>\n",
       "    <tr>\n",
       "      <th>6077</th>\n",
       "      <td>0.001016</td>\n",
       "      <td>0.000000</td>\n",
       "      <td>0.000000</td>\n",
       "      <td>0.083333</td>\n",
       "      <td>0.171717</td>\n",
       "      <td>1.0</td>\n",
       "      <td>1.0</td>\n",
       "      <td>0.005818</td>\n",
       "      <td>0.080305</td>\n",
       "      <td>0.000546</td>\n",
       "      <td>0.071217</td>\n",
       "      <td>0.013093</td>\n",
       "    </tr>\n",
       "    <tr>\n",
       "      <th>6078</th>\n",
       "      <td>0.001626</td>\n",
       "      <td>0.000000</td>\n",
       "      <td>0.000000</td>\n",
       "      <td>0.083333</td>\n",
       "      <td>0.212121</td>\n",
       "      <td>1.0</td>\n",
       "      <td>1.0</td>\n",
       "      <td>0.003477</td>\n",
       "      <td>0.051144</td>\n",
       "      <td>0.000287</td>\n",
       "      <td>0.047478</td>\n",
       "      <td>0.007916</td>\n",
       "    </tr>\n",
       "    <tr>\n",
       "      <th>6079</th>\n",
       "      <td>0.006099</td>\n",
       "      <td>0.333333</td>\n",
       "      <td>0.333333</td>\n",
       "      <td>0.166667</td>\n",
       "      <td>0.030303</td>\n",
       "      <td>0.0</td>\n",
       "      <td>0.0</td>\n",
       "      <td>0.012273</td>\n",
       "      <td>0.147600</td>\n",
       "      <td>0.000751</td>\n",
       "      <td>0.127596</td>\n",
       "      <td>0.025266</td>\n",
       "    </tr>\n",
       "  </tbody>\n",
       "</table>\n",
       "<p>6080 rows × 12 columns</p>\n",
       "</div>"
      ],
      "text/plain": [
       "            0         1         2         3         4    5    6         7   \\\n",
       "0     0.008538  0.222222  0.333333  0.166667  0.000000  1.0  1.0  0.000000   \n",
       "1     0.008945  0.222222  0.333333  0.166667  0.030303  1.0  0.0  0.009091   \n",
       "2     0.001911  0.000000  0.000000  0.083333  0.161616  1.0  1.0  0.003364   \n",
       "3     0.006830  0.111111  0.333333  0.250000  0.020202  1.0  0.0  0.011727   \n",
       "4     0.010774  0.333333  0.222222  0.250000  0.040404  1.0  0.0  0.015227   \n",
       "...        ...       ...       ...       ...       ...  ...  ...       ...   \n",
       "6075  0.010693  0.222222  0.444444  0.333333  0.050505  1.0  0.0  0.012250   \n",
       "6076  0.000610  0.000000  0.000000  0.000000  0.050505  0.0  1.0  0.001227   \n",
       "6077  0.001016  0.000000  0.000000  0.083333  0.171717  1.0  1.0  0.005818   \n",
       "6078  0.001626  0.000000  0.000000  0.083333  0.212121  1.0  1.0  0.003477   \n",
       "6079  0.006099  0.333333  0.333333  0.166667  0.030303  0.0  0.0  0.012273   \n",
       "\n",
       "            8         9         10        11  \n",
       "0     0.147600  0.001185  0.152819  0.018493  \n",
       "1     0.098250  0.000797  0.086053  0.017452  \n",
       "2     0.060117  0.000314  0.054896  0.008964  \n",
       "3     0.125168  0.000191  0.109792  0.021683  \n",
       "4     0.124047  0.003249  0.108309  0.026637  \n",
       "...        ...       ...       ...       ...  \n",
       "6075  0.235083  0.002886  0.201780  0.037980  \n",
       "6076  0.048901  0.000183  0.044510  0.006209  \n",
       "6077  0.080305  0.000546  0.071217  0.013093  \n",
       "6078  0.051144  0.000287  0.047478  0.007916  \n",
       "6079  0.147600  0.000751  0.127596  0.025266  \n",
       "\n",
       "[6080 rows x 12 columns]"
      ]
     },
     "execution_count": 18,
     "metadata": {},
     "output_type": "execute_result"
    }
   ],
   "source": [
    "pd.DataFrame(x)"
   ]
  },
  {
   "cell_type": "code",
   "execution_count": 19,
   "id": "99659842",
   "metadata": {
    "execution": {
     "iopub.execute_input": "2023-07-23T13:24:18.594094Z",
     "iopub.status.busy": "2023-07-23T13:24:18.593697Z",
     "iopub.status.idle": "2023-07-23T13:24:18.600648Z",
     "shell.execute_reply": "2023-07-23T13:24:18.599299Z"
    },
    "papermill": {
     "duration": 0.021954,
     "end_time": "2023-07-23T13:24:18.603338",
     "exception": false,
     "start_time": "2023-07-23T13:24:18.581384",
     "status": "completed"
    },
    "tags": []
   },
   "outputs": [],
   "source": [
    "x_train, x_test,y_train,y_test = train_test_split(x,y,train_size=0.8)"
   ]
  },
  {
   "cell_type": "code",
   "execution_count": 20,
   "id": "67a1c617",
   "metadata": {
    "execution": {
     "iopub.execute_input": "2023-07-23T13:24:18.627450Z",
     "iopub.status.busy": "2023-07-23T13:24:18.626275Z",
     "iopub.status.idle": "2023-07-23T13:24:18.632766Z",
     "shell.execute_reply": "2023-07-23T13:24:18.631632Z"
    },
    "papermill": {
     "duration": 0.021012,
     "end_time": "2023-07-23T13:24:18.635005",
     "exception": false,
     "start_time": "2023-07-23T13:24:18.613993",
     "status": "completed"
    },
    "tags": []
   },
   "outputs": [
    {
     "data": {
      "text/plain": [
       "(1216, 12)"
      ]
     },
     "execution_count": 20,
     "metadata": {},
     "output_type": "execute_result"
    }
   ],
   "source": [
    "x_test.shape\n"
   ]
  },
  {
   "cell_type": "code",
   "execution_count": 21,
   "id": "1e0c8688",
   "metadata": {
    "execution": {
     "iopub.execute_input": "2023-07-23T13:24:18.658816Z",
     "iopub.status.busy": "2023-07-23T13:24:18.658103Z",
     "iopub.status.idle": "2023-07-23T13:24:18.793858Z",
     "shell.execute_reply": "2023-07-23T13:24:18.792648Z"
    },
    "papermill": {
     "duration": 0.150788,
     "end_time": "2023-07-23T13:24:18.796669",
     "exception": false,
     "start_time": "2023-07-23T13:24:18.645881",
     "status": "completed"
    },
    "tags": []
   },
   "outputs": [],
   "source": [
    "from sklearn.linear_model import LogisticRegression\n",
    "from sklearn.svm import SVC\n",
    "from sklearn.neural_network import MLPClassifier\n"
   ]
  },
  {
   "cell_type": "code",
   "execution_count": 22,
   "id": "d120188a",
   "metadata": {
    "execution": {
     "iopub.execute_input": "2023-07-23T13:24:18.819834Z",
     "iopub.status.busy": "2023-07-23T13:24:18.819397Z",
     "iopub.status.idle": "2023-07-23T13:24:18.825499Z",
     "shell.execute_reply": "2023-07-23T13:24:18.824331Z"
    },
    "papermill": {
     "duration": 0.020528,
     "end_time": "2023-07-23T13:24:18.827915",
     "exception": false,
     "start_time": "2023-07-23T13:24:18.807387",
     "status": "completed"
    },
    "tags": []
   },
   "outputs": [],
   "source": [
    "log_model = LogisticRegression(penalty='l2', verbose=1)\n",
    "svm_model = SVC(kernel='rbf', verbose=1)\n",
    "nn_model = MLPClassifier(hidden_layer_sizes=(16, 16), activation='relu', solver='adam', verbose=1)"
   ]
  },
  {
   "cell_type": "code",
   "execution_count": 23,
   "id": "d22451c4",
   "metadata": {
    "execution": {
     "iopub.execute_input": "2023-07-23T13:24:18.851465Z",
     "iopub.status.busy": "2023-07-23T13:24:18.851075Z",
     "iopub.status.idle": "2023-07-23T13:24:22.914374Z",
     "shell.execute_reply": "2023-07-23T13:24:22.913112Z"
    },
    "papermill": {
     "duration": 4.077841,
     "end_time": "2023-07-23T13:24:22.916997",
     "exception": false,
     "start_time": "2023-07-23T13:24:18.839156",
     "status": "completed"
    },
    "tags": []
   },
   "outputs": [
    {
     "name": "stderr",
     "output_type": "stream",
     "text": [
      "[Parallel(n_jobs=1)]: Using backend SequentialBackend with 1 concurrent workers.\n",
      " This problem is unconstrained.\n",
      "[Parallel(n_jobs=1)]: Done   1 out of   1 | elapsed:    0.0s finished\n"
     ]
    },
    {
     "name": "stdout",
     "output_type": "stream",
     "text": [
      "RUNNING THE L-BFGS-B CODE\n",
      "\n",
      "           * * *\n",
      "\n",
      "Machine precision = 2.220D-16\n",
      " N =           13     M =           10\n",
      "\n",
      "At X0         0 variables are exactly at the bounds\n",
      "\n",
      "At iterate    0    f=  3.37147D+03    |proj g|=  1.77300D+03\n",
      "\n",
      "           * * *\n",
      "\n",
      "Tit   = total number of iterations\n",
      "Tnf   = total number of function evaluations\n",
      "Tnint = total number of segments explored during Cauchy searches\n",
      "Skip  = number of BFGS updates skipped\n",
      "Nact  = number of active bounds at final generalized Cauchy point\n",
      "Projg = norm of the final projected gradient\n",
      "F     = final function value\n",
      "\n",
      "           * * *\n",
      "\n",
      "   N    Tit     Tnf  Tnint  Skip  Nact     Projg        F\n",
      "   13     39     43      1     0     0   1.867D-02   1.784D+03\n",
      "  F =   1784.4972286309862     \n",
      "\n",
      "CONVERGENCE: REL_REDUCTION_OF_F_<=_FACTR*EPSMCH             \n",
      "[LibSVM].\n",
      "Warning: using -h 0 may be faster\n",
      "*....\n",
      "Warning: using -h 0 may be faster\n",
      "*.\n",
      "Warning: using -h 0 may be faster\n",
      "*\n",
      "optimization finished, #iter = 5836\n",
      "obj = -1317.931153, rho = 0.996701\n",
      "nSV = 1535, nBSV = 1181\n",
      "Total nSV = 1535\n",
      "Iteration 1, loss = 0.81195740\n",
      "Iteration 2, loss = 0.72347016\n",
      "Iteration 3, loss = 0.61226802\n",
      "Iteration 4, loss = 0.49504444\n",
      "Iteration 5, loss = 0.42801621\n",
      "Iteration 6, loss = 0.41152439\n",
      "Iteration 7, loss = 0.40573795\n",
      "Iteration 8, loss = 0.40103924\n",
      "Iteration 9, loss = 0.39638692\n",
      "Iteration 10, loss = 0.39267409\n",
      "Iteration 11, loss = 0.38932208\n",
      "Iteration 12, loss = 0.38647284\n",
      "Iteration 13, loss = 0.38364082\n",
      "Iteration 14, loss = 0.38115927\n",
      "Iteration 15, loss = 0.37914166\n",
      "Iteration 16, loss = 0.37724464\n",
      "Iteration 17, loss = 0.37567931\n",
      "Iteration 18, loss = 0.37428489\n",
      "Iteration 19, loss = 0.37317528\n",
      "Iteration 20, loss = 0.37155828\n",
      "Iteration 21, loss = 0.37068894\n",
      "Iteration 22, loss = 0.36963237\n",
      "Iteration 23, loss = 0.36830714\n",
      "Iteration 24, loss = 0.36706979\n",
      "Iteration 25, loss = 0.36610780\n",
      "Iteration 26, loss = 0.36513804\n",
      "Iteration 27, loss = 0.36418302\n",
      "Iteration 28, loss = 0.36339731\n",
      "Iteration 29, loss = 0.36265418\n",
      "Iteration 30, loss = 0.36184927\n",
      "Iteration 31, loss = 0.36149494\n",
      "Iteration 32, loss = 0.36053735\n",
      "Iteration 33, loss = 0.35980664\n",
      "Iteration 34, loss = 0.35940139\n",
      "Iteration 35, loss = 0.35886226\n",
      "Iteration 36, loss = 0.35866278\n",
      "Iteration 37, loss = 0.35804809\n",
      "Iteration 38, loss = 0.35754309\n",
      "Iteration 39, loss = 0.35700982\n",
      "Iteration 40, loss = 0.35666149\n",
      "Iteration 41, loss = 0.35643026\n",
      "Iteration 42, loss = 0.35600732\n",
      "Iteration 43, loss = 0.35576888\n",
      "Iteration 44, loss = 0.35547966\n",
      "Iteration 45, loss = 0.35516588\n",
      "Iteration 46, loss = 0.35494375\n",
      "Iteration 47, loss = 0.35466928\n",
      "Iteration 48, loss = 0.35466547\n",
      "Iteration 49, loss = 0.35446722\n",
      "Iteration 50, loss = 0.35412319\n",
      "Iteration 51, loss = 0.35484146\n",
      "Iteration 52, loss = 0.35347762\n",
      "Iteration 53, loss = 0.35334825\n",
      "Iteration 54, loss = 0.35315089\n",
      "Iteration 55, loss = 0.35284798\n",
      "Iteration 56, loss = 0.35297411\n",
      "Iteration 57, loss = 0.35264401\n",
      "Iteration 58, loss = 0.35224706\n",
      "Iteration 59, loss = 0.35253646\n",
      "Iteration 60, loss = 0.35185910\n",
      "Iteration 61, loss = 0.35199577\n",
      "Iteration 62, loss = 0.35137550\n",
      "Iteration 63, loss = 0.35113127\n",
      "Iteration 64, loss = 0.35089417\n",
      "Iteration 65, loss = 0.35066071\n",
      "Iteration 66, loss = 0.35030142\n",
      "Iteration 67, loss = 0.35012796\n",
      "Iteration 68, loss = 0.35027174\n",
      "Iteration 69, loss = 0.34977436\n",
      "Iteration 70, loss = 0.34928088\n",
      "Iteration 71, loss = 0.34916115\n",
      "Iteration 72, loss = 0.34934400\n",
      "Iteration 73, loss = 0.34863156\n",
      "Iteration 74, loss = 0.34868926\n",
      "Iteration 75, loss = 0.34840154\n",
      "Iteration 76, loss = 0.34783399\n",
      "Iteration 77, loss = 0.34763919\n",
      "Iteration 78, loss = 0.34750507\n",
      "Iteration 79, loss = 0.34729757\n",
      "Iteration 80, loss = 0.34760591\n",
      "Iteration 81, loss = 0.34697387\n",
      "Iteration 82, loss = 0.34638410\n",
      "Iteration 83, loss = 0.34635151\n",
      "Iteration 84, loss = 0.34622257\n",
      "Iteration 85, loss = 0.34562883\n",
      "Iteration 86, loss = 0.34564583\n",
      "Iteration 87, loss = 0.34510730\n",
      "Iteration 88, loss = 0.34494963\n",
      "Iteration 89, loss = 0.34443665\n",
      "Iteration 90, loss = 0.34430730\n",
      "Iteration 91, loss = 0.34415693\n",
      "Iteration 92, loss = 0.34503293\n",
      "Iteration 93, loss = 0.34375285\n",
      "Iteration 94, loss = 0.34382311\n",
      "Iteration 95, loss = 0.34293049\n",
      "Iteration 96, loss = 0.34273267\n",
      "Iteration 97, loss = 0.34246331\n",
      "Iteration 98, loss = 0.34212488\n",
      "Iteration 99, loss = 0.34203027\n",
      "Iteration 100, loss = 0.34190529\n",
      "Iteration 101, loss = 0.34151274\n",
      "Iteration 102, loss = 0.34221537\n",
      "Iteration 103, loss = 0.34151348\n",
      "Iteration 104, loss = 0.34134842\n",
      "Iteration 105, loss = 0.34077359\n",
      "Iteration 106, loss = 0.34046846\n",
      "Iteration 107, loss = 0.34038940\n",
      "Iteration 108, loss = 0.34042055\n",
      "Iteration 109, loss = 0.33976865\n",
      "Iteration 110, loss = 0.33971130\n",
      "Iteration 111, loss = 0.33933710\n",
      "Iteration 112, loss = 0.33907955\n",
      "Iteration 113, loss = 0.33888184\n",
      "Iteration 114, loss = 0.33902459\n",
      "Iteration 115, loss = 0.33855894\n",
      "Iteration 116, loss = 0.33877611\n",
      "Iteration 117, loss = 0.33858870\n",
      "Iteration 118, loss = 0.33781875\n",
      "Iteration 119, loss = 0.33763260\n",
      "Iteration 120, loss = 0.33781262\n",
      "Iteration 121, loss = 0.33722377\n",
      "Iteration 122, loss = 0.33670799\n",
      "Iteration 123, loss = 0.33651401\n",
      "Iteration 124, loss = 0.33636021\n",
      "Iteration 125, loss = 0.33606006\n",
      "Iteration 126, loss = 0.33581411\n",
      "Iteration 127, loss = 0.33571249\n",
      "Iteration 128, loss = 0.33519282\n",
      "Iteration 129, loss = 0.33587569\n",
      "Iteration 130, loss = 0.33491762\n",
      "Iteration 131, loss = 0.33495259\n",
      "Iteration 132, loss = 0.33453613\n",
      "Iteration 133, loss = 0.33453103\n",
      "Iteration 134, loss = 0.33419027\n",
      "Iteration 135, loss = 0.33360655\n",
      "Iteration 136, loss = 0.33347491\n",
      "Iteration 137, loss = 0.33369371\n",
      "Iteration 138, loss = 0.33310935\n",
      "Iteration 139, loss = 0.33264935\n",
      "Iteration 140, loss = 0.33265242\n",
      "Iteration 141, loss = 0.33249021\n",
      "Iteration 142, loss = 0.33260144\n",
      "Iteration 143, loss = 0.33202851\n",
      "Iteration 144, loss = 0.33179713\n",
      "Iteration 145, loss = 0.33125433\n",
      "Iteration 146, loss = 0.33163848\n",
      "Iteration 147, loss = 0.33072429\n",
      "Iteration 148, loss = 0.33038278\n",
      "Iteration 149, loss = 0.33033050\n",
      "Iteration 150, loss = 0.33011758\n",
      "Iteration 151, loss = 0.32984989\n",
      "Iteration 152, loss = 0.32948941\n",
      "Iteration 153, loss = 0.32946814\n",
      "Iteration 154, loss = 0.32949968\n",
      "Iteration 155, loss = 0.32903882\n",
      "Iteration 156, loss = 0.32878204\n",
      "Iteration 157, loss = 0.32889607\n",
      "Iteration 158, loss = 0.32862548\n",
      "Iteration 159, loss = 0.32790736\n",
      "Iteration 160, loss = 0.32852913\n",
      "Iteration 161, loss = 0.32772797\n",
      "Iteration 162, loss = 0.32737585\n",
      "Iteration 163, loss = 0.32717424\n",
      "Iteration 164, loss = 0.32659208\n",
      "Iteration 165, loss = 0.32744293\n",
      "Iteration 166, loss = 0.32669052\n",
      "Iteration 167, loss = 0.32651789\n",
      "Iteration 168, loss = 0.32675119\n",
      "Iteration 169, loss = 0.32633887\n",
      "Iteration 170, loss = 0.32572806\n",
      "Iteration 171, loss = 0.32551282\n",
      "Iteration 172, loss = 0.32588578\n",
      "Iteration 173, loss = 0.32525430\n",
      "Iteration 174, loss = 0.32489908\n",
      "Iteration 175, loss = 0.32444100\n",
      "Iteration 176, loss = 0.32471087\n",
      "Iteration 177, loss = 0.32410495\n",
      "Iteration 178, loss = 0.32457497\n",
      "Iteration 179, loss = 0.32454102\n",
      "Iteration 180, loss = 0.32362646\n",
      "Iteration 181, loss = 0.32361405\n",
      "Iteration 182, loss = 0.32350556\n",
      "Iteration 183, loss = 0.32313454\n",
      "Iteration 184, loss = 0.32271099\n",
      "Iteration 185, loss = 0.32325734\n",
      "Iteration 186, loss = 0.32232902\n",
      "Iteration 187, loss = 0.32240944\n",
      "Iteration 188, loss = 0.32203328\n",
      "Iteration 189, loss = 0.32216087\n",
      "Iteration 190, loss = 0.32133453\n",
      "Iteration 191, loss = 0.32163544\n",
      "Iteration 192, loss = 0.32216630\n",
      "Iteration 193, loss = 0.32119520\n",
      "Iteration 194, loss = 0.32138261\n",
      "Iteration 195, loss = 0.32103037\n",
      "Iteration 196, loss = 0.32037380\n",
      "Iteration 197, loss = 0.32038356\n",
      "Iteration 198, loss = 0.31990996\n",
      "Iteration 199, loss = 0.31979695\n",
      "Iteration 200, loss = 0.31952142\n"
     ]
    },
    {
     "name": "stderr",
     "output_type": "stream",
     "text": [
      "/opt/conda/lib/python3.10/site-packages/sklearn/neural_network/_multilayer_perceptron.py:686: ConvergenceWarning: Stochastic Optimizer: Maximum iterations (200) reached and the optimization hasn't converged yet.\n",
      "  warnings.warn(\n"
     ]
    },
    {
     "data": {
      "text/html": [
       "<style>#sk-container-id-1 {color: black;background-color: white;}#sk-container-id-1 pre{padding: 0;}#sk-container-id-1 div.sk-toggleable {background-color: white;}#sk-container-id-1 label.sk-toggleable__label {cursor: pointer;display: block;width: 100%;margin-bottom: 0;padding: 0.3em;box-sizing: border-box;text-align: center;}#sk-container-id-1 label.sk-toggleable__label-arrow:before {content: \"▸\";float: left;margin-right: 0.25em;color: #696969;}#sk-container-id-1 label.sk-toggleable__label-arrow:hover:before {color: black;}#sk-container-id-1 div.sk-estimator:hover label.sk-toggleable__label-arrow:before {color: black;}#sk-container-id-1 div.sk-toggleable__content {max-height: 0;max-width: 0;overflow: hidden;text-align: left;background-color: #f0f8ff;}#sk-container-id-1 div.sk-toggleable__content pre {margin: 0.2em;color: black;border-radius: 0.25em;background-color: #f0f8ff;}#sk-container-id-1 input.sk-toggleable__control:checked~div.sk-toggleable__content {max-height: 200px;max-width: 100%;overflow: auto;}#sk-container-id-1 input.sk-toggleable__control:checked~label.sk-toggleable__label-arrow:before {content: \"▾\";}#sk-container-id-1 div.sk-estimator input.sk-toggleable__control:checked~label.sk-toggleable__label {background-color: #d4ebff;}#sk-container-id-1 div.sk-label input.sk-toggleable__control:checked~label.sk-toggleable__label {background-color: #d4ebff;}#sk-container-id-1 input.sk-hidden--visually {border: 0;clip: rect(1px 1px 1px 1px);clip: rect(1px, 1px, 1px, 1px);height: 1px;margin: -1px;overflow: hidden;padding: 0;position: absolute;width: 1px;}#sk-container-id-1 div.sk-estimator {font-family: monospace;background-color: #f0f8ff;border: 1px dotted black;border-radius: 0.25em;box-sizing: border-box;margin-bottom: 0.5em;}#sk-container-id-1 div.sk-estimator:hover {background-color: #d4ebff;}#sk-container-id-1 div.sk-parallel-item::after {content: \"\";width: 100%;border-bottom: 1px solid gray;flex-grow: 1;}#sk-container-id-1 div.sk-label:hover label.sk-toggleable__label {background-color: #d4ebff;}#sk-container-id-1 div.sk-serial::before {content: \"\";position: absolute;border-left: 1px solid gray;box-sizing: border-box;top: 0;bottom: 0;left: 50%;z-index: 0;}#sk-container-id-1 div.sk-serial {display: flex;flex-direction: column;align-items: center;background-color: white;padding-right: 0.2em;padding-left: 0.2em;position: relative;}#sk-container-id-1 div.sk-item {position: relative;z-index: 1;}#sk-container-id-1 div.sk-parallel {display: flex;align-items: stretch;justify-content: center;background-color: white;position: relative;}#sk-container-id-1 div.sk-item::before, #sk-container-id-1 div.sk-parallel-item::before {content: \"\";position: absolute;border-left: 1px solid gray;box-sizing: border-box;top: 0;bottom: 0;left: 50%;z-index: -1;}#sk-container-id-1 div.sk-parallel-item {display: flex;flex-direction: column;z-index: 1;position: relative;background-color: white;}#sk-container-id-1 div.sk-parallel-item:first-child::after {align-self: flex-end;width: 50%;}#sk-container-id-1 div.sk-parallel-item:last-child::after {align-self: flex-start;width: 50%;}#sk-container-id-1 div.sk-parallel-item:only-child::after {width: 0;}#sk-container-id-1 div.sk-dashed-wrapped {border: 1px dashed gray;margin: 0 0.4em 0.5em 0.4em;box-sizing: border-box;padding-bottom: 0.4em;background-color: white;}#sk-container-id-1 div.sk-label label {font-family: monospace;font-weight: bold;display: inline-block;line-height: 1.2em;}#sk-container-id-1 div.sk-label-container {text-align: center;}#sk-container-id-1 div.sk-container {/* jupyter's `normalize.less` sets `[hidden] { display: none; }` but bootstrap.min.css set `[hidden] { display: none !important; }` so we also need the `!important` here to be able to override the default hidden behavior on the sphinx rendered scikit-learn.org. See: https://github.com/scikit-learn/scikit-learn/issues/21755 */display: inline-block !important;position: relative;}#sk-container-id-1 div.sk-text-repr-fallback {display: none;}</style><div id=\"sk-container-id-1\" class=\"sk-top-container\"><div class=\"sk-text-repr-fallback\"><pre>MLPClassifier(hidden_layer_sizes=(16, 16), verbose=1)</pre><b>In a Jupyter environment, please rerun this cell to show the HTML representation or trust the notebook. <br />On GitHub, the HTML representation is unable to render, please try loading this page with nbviewer.org.</b></div><div class=\"sk-container\" hidden><div class=\"sk-item\"><div class=\"sk-estimator sk-toggleable\"><input class=\"sk-toggleable__control sk-hidden--visually\" id=\"sk-estimator-id-1\" type=\"checkbox\" checked><label for=\"sk-estimator-id-1\" class=\"sk-toggleable__label sk-toggleable__label-arrow\">MLPClassifier</label><div class=\"sk-toggleable__content\"><pre>MLPClassifier(hidden_layer_sizes=(16, 16), verbose=1)</pre></div></div></div></div></div>"
      ],
      "text/plain": [
       "MLPClassifier(hidden_layer_sizes=(16, 16), verbose=1)"
      ]
     },
     "execution_count": 23,
     "metadata": {},
     "output_type": "execute_result"
    }
   ],
   "source": [
    "log_model.fit(x_train,y_train)\n",
    "svm_model.fit(x_train,y_train)\n",
    "nn_model.fit(x_train,y_train)"
   ]
  },
  {
   "cell_type": "code",
   "execution_count": 24,
   "id": "1c6a495c",
   "metadata": {
    "execution": {
     "iopub.execute_input": "2023-07-23T13:24:22.946201Z",
     "iopub.status.busy": "2023-07-23T13:24:22.945473Z",
     "iopub.status.idle": "2023-07-23T13:24:23.157663Z",
     "shell.execute_reply": "2023-07-23T13:24:23.155960Z"
    },
    "papermill": {
     "duration": 0.232351,
     "end_time": "2023-07-23T13:24:23.162599",
     "exception": false,
     "start_time": "2023-07-23T13:24:22.930248",
     "status": "completed"
    },
    "tags": []
   },
   "outputs": [
    {
     "name": "stdout",
     "output_type": "stream",
     "text": [
      "0.8585526315789473\n",
      "0.8585526315789473\n",
      "0.8643092105263158\n"
     ]
    }
   ],
   "source": [
    "print(log_model.score(x_test,y_test))\n",
    "print(svm_model.score(x_test,y_test))\n",
    "print(nn_model.score(x_test,y_test))"
   ]
  },
  {
   "cell_type": "code",
   "execution_count": 25,
   "id": "f5526aa2",
   "metadata": {
    "execution": {
     "iopub.execute_input": "2023-07-23T13:24:23.223023Z",
     "iopub.status.busy": "2023-07-23T13:24:23.222300Z",
     "iopub.status.idle": "2023-07-23T13:24:23.234584Z",
     "shell.execute_reply": "2023-07-23T13:24:23.233020Z"
    },
    "papermill": {
     "duration": 0.048304,
     "end_time": "2023-07-23T13:24:23.239706",
     "exception": false,
     "start_time": "2023-07-23T13:24:23.191402",
     "status": "completed"
    },
    "tags": []
   },
   "outputs": [
    {
     "data": {
      "text/plain": [
       "0.8633223684210526"
      ]
     },
     "execution_count": 25,
     "metadata": {},
     "output_type": "execute_result"
    }
   ],
   "source": [
    "data[data.columns[0]].sum()/data.shape[0]"
   ]
  },
  {
   "cell_type": "code",
   "execution_count": 26,
   "id": "fd72b2d7",
   "metadata": {
    "execution": {
     "iopub.execute_input": "2023-07-23T13:24:23.286470Z",
     "iopub.status.busy": "2023-07-23T13:24:23.285407Z",
     "iopub.status.idle": "2023-07-23T13:24:23.289869Z",
     "shell.execute_reply": "2023-07-23T13:24:23.289063Z"
    },
    "papermill": {
     "duration": 0.023747,
     "end_time": "2023-07-23T13:24:23.292089",
     "exception": false,
     "start_time": "2023-07-23T13:24:23.268342",
     "status": "completed"
    },
    "tags": []
   },
   "outputs": [],
   "source": [
    "from sklearn.metrics import f1_score"
   ]
  },
  {
   "cell_type": "code",
   "execution_count": 27,
   "id": "80a92a3c",
   "metadata": {
    "execution": {
     "iopub.execute_input": "2023-07-23T13:24:23.321516Z",
     "iopub.status.busy": "2023-07-23T13:24:23.320800Z",
     "iopub.status.idle": "2023-07-23T13:24:23.523921Z",
     "shell.execute_reply": "2023-07-23T13:24:23.522197Z"
    },
    "papermill": {
     "duration": 0.223157,
     "end_time": "2023-07-23T13:24:23.528748",
     "exception": false,
     "start_time": "2023-07-23T13:24:23.305591",
     "status": "completed"
    },
    "tags": []
   },
   "outputs": [],
   "source": [
    "log_pred = log_model.predict(x_test)\n",
    "svm_pred = svm_model.predict(x_test)\n",
    "nn_pred = nn_model.predict(x_test)"
   ]
  },
  {
   "cell_type": "code",
   "execution_count": 28,
   "id": "6c15b6f3",
   "metadata": {
    "execution": {
     "iopub.execute_input": "2023-07-23T13:24:23.591907Z",
     "iopub.status.busy": "2023-07-23T13:24:23.590183Z",
     "iopub.status.idle": "2023-07-23T13:24:23.615459Z",
     "shell.execute_reply": "2023-07-23T13:24:23.613885Z"
    },
    "papermill": {
     "duration": 0.061543,
     "end_time": "2023-07-23T13:24:23.620455",
     "exception": false,
     "start_time": "2023-07-23T13:24:23.558912",
     "status": "completed"
    },
    "tags": []
   },
   "outputs": [
    {
     "name": "stdout",
     "output_type": "stream",
     "text": [
      "0.9238938053097345\n",
      "0.9238938053097345\n",
      "0.9267643142476697\n"
     ]
    }
   ],
   "source": [
    "print(f1_score(log_pred,y_test))\n",
    "print(f1_score(svm_pred,y_test))\n",
    "print(f1_score(nn_pred,y_test))"
   ]
  }
 ],
 "metadata": {
  "kernelspec": {
   "display_name": "Python 3",
   "language": "python",
   "name": "python3"
  },
  "language_info": {
   "codemirror_mode": {
    "name": "ipython",
    "version": 3
   },
   "file_extension": ".py",
   "mimetype": "text/x-python",
   "name": "python",
   "nbconvert_exporter": "python",
   "pygments_lexer": "ipython3",
   "version": "3.10.10"
  },
  "papermill": {
   "default_parameters": {},
   "duration": 22.16189,
   "end_time": "2023-07-23T13:24:24.669157",
   "environment_variables": {},
   "exception": null,
   "input_path": "__notebook__.ipynb",
   "output_path": "__notebook__.ipynb",
   "parameters": {},
   "start_time": "2023-07-23T13:24:02.507267",
   "version": "2.4.0"
  }
 },
 "nbformat": 4,
 "nbformat_minor": 5
}
